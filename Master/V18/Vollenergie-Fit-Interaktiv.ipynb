{
 "cells": [
  {
   "cell_type": "code",
   "execution_count": 8,
   "id": "8cdbc6a6-8624-4d3e-9ba4-cae2b5f5cb2b",
   "metadata": {},
   "outputs": [],
   "source": [
    "#!/usr/bin/env python3\n",
    "\n",
    "import numpy as np\n",
    "import pandas as pd\n",
    "from uncertainties.umath import *\n",
    "from uncertainties import ufloat\n",
    "from datetime import datetime\n",
    "import iminuit\n",
    "from iminuit import Minuit\n",
    "from iminuit.cost import LeastSquares\n",
    "import matplotlib\n",
    "import matplotlib.ticker as ticker\n",
    "from matplotlib import pyplot as plt\n",
    "\n",
    "start_aktivität = ufloat(4130, 60)  # Bq, am 1.10.2000\n",
    "\n",
    "start_date = datetime(2000, 10, 1)\n",
    "end_date = datetime(2023, 11, 20)\n",
    "\n",
    "# Differenz zwischen den Daten\n",
    "time_difference = end_date - start_date\n",
    "\n",
    "# Umwandlung der Zeitdifferenz in Sekunden\n",
    "time_difference_in_seconds = time_difference.total_seconds()\n",
    "\n",
    "halbwertszeit_eu = (13.522) * 365.25 * 24 * 60 * 60  # Jahre, in s umgerechnet\n",
    "\n",
    "\n",
    "def aktivitätsgesetz(t, A0, tau):\n",
    "    \"\"\"Formel für die Aktivität einer Probe\"\"\"\n",
    "    A = A0 * exp(((-log(2)) / tau) * t)\n",
    "    return A\n",
    "\n",
    "\n",
    "end_aktivität = aktivitätsgesetz(\n",
    "    time_difference_in_seconds, start_aktivität, halbwertszeit_eu\n",
    ")\n",
    "a = 8.91  # cm\n",
    "r = 2.25  # cm\n",
    "omega_4pi = 1 / 2 * (1 - a / (np.sqrt(a**2 + r**2)))\n",
    "# print(f\"Die Aktivität am Messtag betrug {end_aktivität}\")\n",
    "# print(f\"Der Raumwinkel Omega/4pi beträgt {omega_4pi:.5f}\")\n",
    "\n",
    "peaks = pd.read_csv(\"./build/peaks.csv\")\n",
    "\n",
    "\n",
    "def fedp(omega, N, A, W, t):\n",
    "    \"\"\"Formel für die Vollenergienachweiswahrscheinlichkeit\"\"\"\n",
    "    Q = (4 * np.pi) / omega * N / (A * W * t)\n",
    "    return Q\n",
    "\n",
    "\n",
    "# Messzeit\n",
    "t = 2802  # s\n",
    "\n",
    "peaks[\"fedp\"] = float(0)\n",
    "\n",
    "for zeile in range(len(peaks)):\n",
    "    # Anzahl Events mit Unsicherheit\n",
    "    N = ufloat(peaks.loc[zeile, \"N\"], peaks.loc[zeile, \"N_err\"])\n",
    "    # Emissionwahrscheinlichekit nach Literatur mit Unsicherheit\n",
    "    P = ufloat(peaks.loc[zeile, \"Intensität\"], peaks.loc[zeile, \"Unsicherheit(I)\"])\n",
    "    u_fedp = fedp((omega_4pi * 4 * np.pi), N, end_aktivität, P, t)\n",
    "    peaks.loc[zeile, \"fedp\"] = round(\n",
    "        u_fedp.n, 6\n",
    "    )  # * 10  # Der Faktor 10 wird zur Umrechnung in % benötigt; sollten das aber nicht 100 sein?\n",
    "    peaks.loc[zeile, \"fedp_err\"] = round(u_fedp.s, 6)  # * 10\n",
    "\n",
    "peaks_speichern = peaks.to_csv(\"./build/peaks.csv\", index=False)\n",
    "\n",
    "\n",
    "def q_energy(E, a, b, c):\n",
    "    \"\"\"\n",
    "    Zu fittende Funktion für die Energieabhängigkeit der FEDP\n",
    "    \"\"\"\n",
    "    return a * ((E - c) ** b)\n"
   ]
  },
  {
   "cell_type": "code",
   "execution_count": 10,
   "id": "955c0500-757e-4c94-ad43-d882d88a17d8",
   "metadata": {},
   "outputs": [
    {
     "data": {
      "application/vnd.jupyter.widget-view+json": {
       "model_id": "0d9a9cb8bc774a8c84234b7f05df0bb8",
       "version_major": 2,
       "version_minor": 0
      },
      "text/plain": [
       "HBox(children=(Output(), VBox(children=(HBox(children=(Button(description='Fit', style=ButtonStyle()), ToggleB…"
      ]
     },
     "execution_count": 10,
     "metadata": {},
     "output_type": "execute_result"
    }
   ],
   "source": [
    "peaks_fit = peaks.drop([0, 1, 2, 9, 11])\n",
    "\n",
    "energy_scale = np.linspace(\n",
    "    350, peaks[\"Energie\"].max(), 10000\n",
    ")  # Fester Minimumwert nötig um Divergenz zu vermeiden\n",
    "\n",
    "lq = LeastSquares(\n",
    "    peaks_fit[\"Energie\"], peaks_fit[\"fedp\"], peaks_fit[\"fedp_err\"], q_energy\n",
    ")\n",
    "\n",
    "m = Minuit(lq, a=43, b=-1, c=100)\n",
    "m.interactive()\n",
    "#m.limits[\"a\"] = (30, 100)\n",
    "#m.limits[\"b\"] = (-10, -0.01)\n",
    "#m.limits[\"c\"] = (-100, 100)\n",
    "#m.migrad()\n",
    "#m.hesse()"
   ]
  }
 ],
 "metadata": {
  "kernelspec": {
   "display_name": "Python 3 (ipykernel)",
   "language": "python",
   "name": "python3"
  },
  "language_info": {
   "codemirror_mode": {
    "name": "ipython",
    "version": 3
   },
   "file_extension": ".py",
   "mimetype": "text/x-python",
   "name": "python",
   "nbconvert_exporter": "python",
   "pygments_lexer": "ipython3",
   "version": "3.10.12"
  }
 },
 "nbformat": 4,
 "nbformat_minor": 5
}
